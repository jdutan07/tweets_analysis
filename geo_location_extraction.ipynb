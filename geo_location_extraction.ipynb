{
 "cells": [
  {
   "cell_type": "code",
   "execution_count": 1,
   "id": "cc208549",
   "metadata": {},
   "outputs": [],
   "source": [
    "#import all neccessary libraries\n",
    "import json\n",
    "import pandas as pd\n",
    "from pandas import json_normalize"
   ]
  },
  {
   "cell_type": "code",
   "execution_count": 2,
   "id": "e64d6d12",
   "metadata": {},
   "outputs": [],
   "source": [
    "#open json file\n",
    "\n",
    "with open('please_work.json', 'r') as json_file:\n",
    "    data = json.load(json_file)\n",
    "    \n",
    "print(data)"
   ]
  },
  {
   "cell_type": "code",
   "execution_count": 3,
   "id": "efe1b4d4",
   "metadata": {},
   "outputs": [],
   "source": [
    "#Extract tweet data\n",
    "tweets = data['data']\n",
    "\n",
    "#Extract place information\n",
    "places = {place['id']: place for place in data['includes']['places']}\n",
    "\n",
    "#Process each tweet\n",
    "for tweet in tweets:\n",
    "    tweet_text = tweet['text']\n",
    "    tweet_id = tweet['id']\n",
    "    created_at = tweet['created_at']\n",
    "\n",
    "    #Check if geo information is available\n",
    "    if 'geo' in tweet:\n",
    "        place_id = tweet['geo']['place_id']\n",
    "        \n",
    "        #Check if place information is available\n",
    "        if place_id in places:\n",
    "            place_info = places[place_id]\n",
    "            country = place_info['country']\n",
    "            full_name = place_info['full_name']"
   ]
  },
  {
   "cell_type": "code",
   "execution_count": 4,
   "id": "b30be740",
   "metadata": {},
   "outputs": [],
   "source": [
    "#add processed tweets into dataframe\n",
    "df = pd.DataFrame(tweets)"
   ]
  },
  {
   "cell_type": "code",
   "execution_count": 5,
   "id": "b5b66918",
   "metadata": {},
   "outputs": [],
   "source": [
    "data_list = []\n",
    "\n",
    "#Process each tweet\n",
    "for tweet in tweets:\n",
    "    tweet_text = tweet['text']\n",
    "    tweet_id = tweet['id']\n",
    "    created_at = tweet['created_at']\n",
    "\n",
    "    #Check if geo information is available\n",
    "    if 'geo' in tweet:\n",
    "        place_id = tweet['geo']['place_id']\n",
    "        \n",
    "        #Check if place information is available\n",
    "        if place_id in places:\n",
    "            place_info = places[place_id]\n",
    "            country = place_info['country']\n",
    "            full_name = place_info['full_name']\n",
    "\n",
    "            #Append the information to the list\n",
    "            data_list.append({\n",
    "                'text': tweet_text,\n",
    "                'edit_history_tweet_ids': tweet['edit_history_tweet_ids'],\n",
    "                'id': tweet_id,\n",
    "                'created_at': created_at,\n",
    "                'geo': place_info\n",
    "            })\n",
    "\n",
    "#Create a DataFrame from the list\n",
    "df = pd.DataFrame(data_list)"
   ]
  },
  {
   "cell_type": "code",
   "execution_count": 6,
   "id": "2d8345d2",
   "metadata": {},
   "outputs": [],
   "source": [
    "#expand column to see full information \n",
    "pd.set_option('display.max_colwidth', None)"
   ]
  },
  {
   "cell_type": "code",
   "execution_count": 7,
   "id": "beefdfb4",
   "metadata": {},
   "outputs": [],
   "source": [
    "#our 'geo' column needs to be normalized again as the text is still in\n",
    "#json file format. Normalizing the 'geo' column will create new columns that will need to be\n",
    "#removed and renamed to our likeness\n",
    "\n",
    "#Split the '0' column into separate columns\n",
    "df_geo = json_normalize(df['geo'])\n",
    "df_geo.columns = [f'geo.{col}' for col in df_geo.columns]\n",
    "\n",
    "#Concatenate the normalized 'geo' DataFrame with the original DataFrame\n",
    "df = pd.concat([df, df_geo], axis=1)\n",
    "\n",
    "#Drop the original 'geo' column\n",
    "df = df.drop('geo', axis=1)"
   ]
  },
  {
   "cell_type": "code",
   "execution_count": 8,
   "id": "419d147d",
   "metadata": {},
   "outputs": [
    {
     "data": {
      "text/html": [
       "<div>\n",
       "<style scoped>\n",
       "    .dataframe tbody tr th:only-of-type {\n",
       "        vertical-align: middle;\n",
       "    }\n",
       "\n",
       "    .dataframe tbody tr th {\n",
       "        vertical-align: top;\n",
       "    }\n",
       "\n",
       "    .dataframe thead th {\n",
       "        text-align: right;\n",
       "    }\n",
       "</style>\n",
       "<table border=\"1\" class=\"dataframe\">\n",
       "  <thead>\n",
       "    <tr style=\"text-align: right;\">\n",
       "      <th></th>\n",
       "      <th>TEXT</th>\n",
       "      <th>CREATION DATE</th>\n",
       "      <th>COUNTRY</th>\n",
       "      <th>COUNTRY CODE</th>\n",
       "      <th>STATE</th>\n",
       "    </tr>\n",
       "  </thead>\n",
       "  <tbody>\n",
       "    <tr>\n",
       "      <th>1</th>\n",
       "      <td>API practice tweet</td>\n",
       "      <td>2023-11-09T01:00:38.000Z</td>\n",
       "      <td>United States</td>\n",
       "      <td>US</td>\n",
       "      <td>New York</td>\n",
       "    </tr>\n",
       "  </tbody>\n",
       "</table>\n",
       "</div>"
      ],
      "text/plain": [
       "                 TEXT             CREATION DATE        COUNTRY COUNTRY CODE  \\\n",
       "1  API practice tweet  2023-11-09T01:00:38.000Z  United States           US   \n",
       "\n",
       "      STATE  \n",
       "1  New York  "
      ]
     },
     "execution_count": 8,
     "metadata": {},
     "output_type": "execute_result"
    }
   ],
   "source": [
    "df = df.drop(columns= ['edit_history_tweet_ids', 'id','geo.geo.type','geo.id','geo.full_name','geo.geo.bbox'])\n",
    "\n",
    "df = df.rename(columns= {'text':'TEXT', 'created_at':'CREATION DATE',\n",
    "                         'geo.country': \"COUNTRY\", 'geo.country_code':'COUNTRY CODE',\n",
    "                        'geo.name':'STATE'})\n",
    "\n",
    "#show data\n",
    "df.tail(1)"
   ]
  },
  {
   "cell_type": "markdown",
   "id": "749af4b1",
   "metadata": {},
   "source": [
    "**The displayed tweet comes from my own personal twitter account. I consent to it being shown as well its geolocation. As for its geocoordinates, I did drop that column.**"
   ]
  },
  {
   "cell_type": "code",
   "execution_count": 12,
   "id": "d1f281a6",
   "metadata": {},
   "outputs": [],
   "source": [
    "#now export as an excel file (or csv)\n",
    "with pd.ExcelWriter('LOOK UP TWEETS.xlsx') as writer:\n",
    "    df.to_excel(writer, sheet_name = \"Exported Tweets\")"
   ]
  }
 ],
 "metadata": {
  "kernelspec": {
   "display_name": "Python 3 (ipykernel)",
   "language": "python",
   "name": "python3"
  },
  "language_info": {
   "codemirror_mode": {
    "name": "ipython",
    "version": 3
   },
   "file_extension": ".py",
   "mimetype": "text/x-python",
   "name": "python",
   "nbconvert_exporter": "python",
   "pygments_lexer": "ipython3",
   "version": "3.9.13"
  }
 },
 "nbformat": 4,
 "nbformat_minor": 5
}
